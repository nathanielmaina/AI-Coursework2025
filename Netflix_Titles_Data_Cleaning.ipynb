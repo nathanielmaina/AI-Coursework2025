{
 "cells": [
  {
   "cell_type": "code",
   "execution_count": 20,
   "id": "5a83d771-704e-4cd2-9c7e-fa65ffcbe116",
   "metadata": {},
   "outputs": [
    {
     "name": "stdout",
     "output_type": "stream",
     "text": [
      "Q1: Dataset shape (rows, columns): (8807, 12)\n"
     ]
    }
   ],
   "source": [
    "# Q1: How many rows and columns are contained in the dataset?\n",
    "import pandas as pd\n",
    "df = pd.read_csv(\"C:\\\\Users\\\\maina\\\\Downloads\\\\netflix_titles.csv\")\n",
    "print(\"Q1: Dataset shape (rows, columns):\", df.shape)\n"
   ]
  },
  {
   "cell_type": "code",
   "execution_count": 21,
   "id": "b2602676-c5c0-4390-b2f3-4d02fb8f1cf2",
   "metadata": {},
   "outputs": [
    {
     "name": "stdout",
     "output_type": "stream",
     "text": [
      "show_id         object\n",
      "type            object\n",
      "title           object\n",
      "director        object\n",
      "cast            object\n",
      "country         object\n",
      "date_added      object\n",
      "release_year     int64\n",
      "rating          object\n",
      "duration        object\n",
      "listed_in       object\n",
      "description     object\n",
      "dtype: object\n"
     ]
    }
   ],
   "source": [
    "# Q2: What datatypes are contained in the dataset?\n",
    "print(df.dtypes)"
   ]
  },
  {
   "cell_type": "code",
   "execution_count": 22,
   "id": "b0d1c72c-6e60-4e75-bd52-921a84fd708f",
   "metadata": {},
   "outputs": [
    {
     "name": "stdout",
     "output_type": "stream",
     "text": [
      "show_id            0\n",
      "type               0\n",
      "title              0\n",
      "director        2634\n",
      "cast             825\n",
      "country          831\n",
      "date_added        10\n",
      "release_year       0\n",
      "rating             4\n",
      "duration           3\n",
      "listed_in          0\n",
      "description        0\n",
      "dtype: int64\n"
     ]
    }
   ],
   "source": [
    "# Q3: Is the dataset complete? i.e no missing values?\n",
    "print(df.isnull().sum())"
   ]
  },
  {
   "cell_type": "code",
   "execution_count": 23,
   "id": "1f2dbe81-bd16-4171-a2d5-e519229f6877",
   "metadata": {},
   "outputs": [
    {
     "name": "stdout",
     "output_type": "stream",
     "text": [
      "type\n",
      "Movie      15\n",
      "TV Show     5\n",
      "Name: count, dtype: int64\n"
     ]
    }
   ],
   "source": [
    "# Q4: List the number of Movies and TV Shows among the last 20 rows\n",
    "\n",
    "last_20 = df.tail(20)  \n",
    "print(last_20['type'].value_counts())"
   ]
  },
  {
   "cell_type": "code",
   "execution_count": 25,
   "id": "f7ee93df-5195-468a-81fd-58dc2fd558a8",
   "metadata": {},
   "outputs": [
    {
     "name": "stdout",
     "output_type": "stream",
     "text": [
      "Q5: Number of Movies from South Africa: 24\n"
     ]
    }
   ],
   "source": [
    "# Q5: Give the number of all Movies originating from South Africa\n",
    "sa_movies = df[(df['country'] == 'South Africa') & (df['type'] == 'Movie')]\n",
    "print(\"Q5: Number of Movies from South Africa:\", sa_movies.shape[0])\n"
   ]
  },
  {
   "cell_type": "code",
   "execution_count": 26,
   "id": "5c291428-f32b-456d-a874-1e2498ffaa49",
   "metadata": {},
   "outputs": [
    {
     "name": "stdout",
     "output_type": "stream",
     "text": [
      "\n",
      "Q6: Description of the movie in the 12th row:\n",
      " Struggling to earn a living in Bangkok, a man joins an emergency rescue service and realizes he must unravel a citywide conspiracy.\n"
     ]
    }
   ],
   "source": [
    "# Q6: What is the description of the movie in the 12th row?\n",
    "description_12th = df.iloc[11]['description']\n",
    "print(\"\\nQ6: Description of the movie in the 12th row:\\n\", description_12th)"
   ]
  },
  {
   "cell_type": "code",
   "execution_count": 27,
   "id": "b64982c4-44f9-491c-a0ad-05aec08eb961",
   "metadata": {},
   "outputs": [
    {
     "name": "stdout",
     "output_type": "stream",
     "text": [
      "                             title  release_year\n",
      "293                           Slay          2021\n",
      "764   Trippin' with the Kandasamys          2021\n",
      "881                 I Am All Girls          2021\n",
      "1172       Loyiso Gola: Unlearning          2021\n"
     ]
    }
   ],
   "source": [
    "# Q7: From these South African movies, list only those released in 2021\n",
    "sa_movies_2021 = sa_movies[sa_movies['release_year'] == 2021]\n",
    "print(sa_movies_2021[['title', 'release_year']])"
   ]
  },
  {
   "cell_type": "code",
   "execution_count": 28,
   "id": "7384c359-c03c-4ed6-980c-5e0dfcdfd524",
   "metadata": {},
   "outputs": [
    {
     "name": "stdout",
     "output_type": "stream",
     "text": [
      "                                                  title  \\\n",
      "6                      My Little Pony: A New Generation   \n",
      "9                                          The Starling   \n",
      "12                                         Je Suis Karl   \n",
      "13                     Confessions of an Invisible Girl   \n",
      "18                                            Intrusion   \n",
      "...                                                 ...   \n",
      "1425                        Creating The Queen's Gambit   \n",
      "1431                                        Stuck Apart   \n",
      "1436  Ratones Paranoicos: The Band that Rocked Argen...   \n",
      "1466                       The Minimalists: Less Is Now   \n",
      "1468                          What Happened to Mr. Cha?   \n",
      "\n",
      "                                                   cast  \n",
      "6     Vanessa Hudgens, Kimiko Glenn, James Marsden, ...  \n",
      "9     Melissa McCarthy, Chris O'Dowd, Kevin Kline, T...  \n",
      "12    Luna Wedler, Jannis Niewöhner, Milan Peschel, ...  \n",
      "13    Klara Castanho, Lucca Picon, Júlia Gomes, Marc...  \n",
      "18    Freida Pinto, Logan Marshall-Green, Robert Joh...  \n",
      "...                                                 ...  \n",
      "1425                                                NaN  \n",
      "1431  Engin Günaydın, Haluk Bilginer, Binnur Kaya, Ö...  \n",
      "1436  Juan Sebastián Gutiérrez, Pablo Cano, Pablo Me...  \n",
      "1466                                                NaN  \n",
      "1468           Cha In-pyo, Cho Dal-hwan, Song Jae-ryong  \n",
      "\n",
      "[277 rows x 2 columns]\n"
     ]
    }
   ],
   "source": [
    "# Q8: List the entire cast of all movies released in 2021\n",
    "movies_2021 = df[(df['type'] == 'Movie') & (df['release_year'] == 2021)]\n",
    "print(movies_2021[['title', 'cast']])"
   ]
  },
  {
   "cell_type": "code",
   "execution_count": null,
   "id": "74d2d942-8f59-4e1c-8fbd-6b8b342ac483",
   "metadata": {},
   "outputs": [],
   "source": []
  }
 ],
 "metadata": {
  "kernelspec": {
   "display_name": "Python 3 (ipykernel)",
   "language": "python",
   "name": "python3"
  },
  "language_info": {
   "codemirror_mode": {
    "name": "ipython",
    "version": 3
   },
   "file_extension": ".py",
   "mimetype": "text/x-python",
   "name": "python",
   "nbconvert_exporter": "python",
   "pygments_lexer": "ipython3",
   "version": "3.13.5"
  }
 },
 "nbformat": 4,
 "nbformat_minor": 5
}
